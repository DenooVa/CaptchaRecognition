{
 "cells": [
  {
   "source": [
    "import cv2\n",
    "import numpy as np\n",
    "import pandas as pd\n",
    "import os\n",
    "import random\n",
    "import string\n",
    "import xlwt\n",
    "from xlwt import Workbook\n",
    "import matplotlib.pyplot as plt"
   ],
   "cell_type": "code",
   "outputs": [],
   "metadata": {},
   "execution_count": 1
  },
  {
   "source": [
    "import tensorflow\n",
    "from tensorflow.keras import layers\n",
    "from tensorflow.keras.models import Model\n",
    "from tensorflow.keras.models import load_model\n",
    "from tensorflow.keras import callbacks\n",
    "import keras"
   ],
   "cell_type": "code",
   "outputs": [
    {
     "output_type": "stream",
     "name": "stderr",
     "text": "Using TensorFlow backend.\n"
    }
   ],
   "metadata": {},
   "execution_count": 2
  },
  {
   "source": [
    "symbols = '0123456789'\n",
    "num_symbols = len(symbols)\n",
    "img_shape = (50,135,1)\n",
    "print(num_symbols)"
   ],
   "cell_type": "code",
   "outputs": [
    {
     "output_type": "stream",
     "name": "stdout",
     "text": "10\n"
    }
   ],
   "metadata": {},
   "execution_count": 3
  },
  {
   "source": [
    "# in this block we difine our model\n",
    "def create_model():\n",
    "    img = layers.Input(shape=img_shape) \n",
    "    # Get image as an input and process it through some Convs\n",
    "    conv1 = layers.Conv2D(16, (3, 3), padding='same', activation='relu')(img)\n",
    "    mp1 = layers.MaxPooling2D(padding='same')(conv1)  # 100x25\n",
    "    conv2 = layers.Conv2D(32, (3, 3), padding='same', activation='relu')(mp1)\n",
    "    mp2 = layers.MaxPooling2D(padding='same')(conv2)  # 50x13\n",
    "    conv3 = layers.Conv2D(32, (3, 3), padding='same', activation='relu')(mp2)\n",
    "    bn = layers.BatchNormalization()(conv3)\n",
    "    mp3 = layers.MaxPooling2D(padding='same')(bn)  # 25x7\n",
    "    \n",
    "    # Get flattened vector and make 5 branches from it.\n",
    "    #Each branch will predict one letter\n",
    "    flat = layers.Flatten()(mp3)\n",
    "    outs = []\n",
    "    for _ in range(5):\n",
    "        dens1 = layers.Dense(64, activation='relu')(flat)\n",
    "        drop = layers.Dropout(0.5)(dens1)\n",
    "        res = layers.Dense(num_symbols, activation='sigmoid')(drop)\n",
    "\n",
    "        outs.append(res)\n",
    "    \n",
    "    # Compile model and return it\n",
    "    model = Model(img, outs)\n",
    "    model.compile(loss='categorical_crossentropy', optimizer='adam',metrics=[\"accuracy\"])\n",
    "    return model"
   ],
   "cell_type": "code",
   "outputs": [],
   "metadata": {},
   "execution_count": 4
  },
  {
   "source": [
    "# remove lines from image by dilation && closing && blur\n",
    "#def image_manipulation(dir):\n",
    "    # reading the image from file\n",
    "    #img = cv2.imread(dir,0) \n",
    "    # we need a kernel\n",
    "    #kernel = np.ones((3,3),np.uint8)\n",
    "    # dilate\n",
    "    #dilate = cv2.morphologyEx(img,cv2.MORPH_DILATE,kernel)\n",
    "    # close\n",
    "    #close = cv2.morphologyEx(img,cv2.MORPH_CLOSE,kernel)\n",
    "    # bilateral on close an dilate for 2 times\n",
    "    #blur_close = cv2.bilateralFilter(close,9,75,75)\n",
    "    #blur_dilate = cv2.bilateralFilter(dilate,9,75,75)\n",
    "    #blur2_dilate = cv2.bilateralFilter(blur_dilate,9,75,75)\n",
    "    #blur2_close = cv2.bilateralFilter(blur_close,9,75,75)\n",
    "    # original image\n",
    "    #cv2.imshow('image',img)\n",
    "    #cv2.imshow('close',close)\n",
    "    #cv2.imshow('dilate',dilate)\n",
    "    #cv2.imshow('blur2_close',blur2_close)\n",
    "    #cv2.imshow('blur2_dilate',blur2_dilate)\n",
    "    #cv2.imshow('thresh on blur2_close',thresh)\n",
    "    #cv2.waitKey(0)\n",
    "    #cv2.destroyAllWindows()\n",
    "    #return blur2_close,blur2_dilate"
   ],
   "cell_type": "code",
   "outputs": [],
   "metadata": {},
   "execution_count": 20
  },
  {
   "source": [
    "# saving those manipulated images\n",
    "#a = os.listdir()\n",
    "#b = os.listdir('captcha')\n",
    "#for i in range(0,len(b)):\n",
    "    #c , d = image_manipulation('captcha/'+ b[i])\n",
    "    #cv2.imwrite('blur2close/'+'_blur2close_'+b[i],c)\n",
    "    #cv2.imwrite('blur2dilate/'+'_blur2dilate_'+b[i],d)"
   ],
   "cell_type": "code",
   "outputs": [],
   "metadata": {},
   "execution_count": 21
  },
  {
   "source": [
    "# using blur2close + blur2dilate + captcha instead of just captcha\n",
    "def preprocess_data():\n",
    "    n_samples = len(os.listdir('All'))\n",
    "    X = np.zeros((n_samples, 50, 135, 1))\n",
    "    y = np.zeros((5, n_samples, num_symbols))\n",
    "\n",
    "    for i, pic in enumerate(os.listdir('All')):\n",
    "        # Read image as grayscale\n",
    "        img = cv2.imread(os.path.join('All/', pic), cv2.IMREAD_GRAYSCALE)\n",
    "        pic_target = pic[:-4]\n",
    "        if len(pic_target) < 6:\n",
    "            # Scale and reshape image\n",
    "            img = img / 255.0\n",
    "            img = np.reshape(img, (50, 135, 1))\n",
    "            # Define targets and code them using OneHotEncoding\n",
    "            targs = np.zeros((5, num_symbols))\n",
    "            for j, l in enumerate(pic_target):\n",
    "                ind = symbols.find(l)\n",
    "                targs[j, ind] = 1\n",
    "            X[i] = img\n",
    "            y[:, i] = targs\n",
    "    \n",
    "    # Return final data\n",
    "    return X, y\n",
    "\n",
    "X, y = preprocess_data()\n",
    "X_train, y_train = X[:970], y[:, :970]\n",
    "X_test, y_test = X[970:], y[:, 970:]"
   ],
   "cell_type": "code",
   "outputs": [],
   "metadata": {},
   "execution_count": 5
  },
  {
   "source": [
    "model=create_model();\n",
    "model.summary();"
   ],
   "cell_type": "code",
   "outputs": [
    {
     "output_type": "stream",
     "name": "stdout",
     "text": "Model: \"model\"\n__________________________________________________________________________________________________\nLayer (type)                    Output Shape         Param #     Connected to                     \n==================================================================================================\ninput_1 (InputLayer)            [(None, 50, 135, 1)] 0                                            \n__________________________________________________________________________________________________\nconv2d (Conv2D)                 (None, 50, 135, 16)  160         input_1[0][0]                    \n__________________________________________________________________________________________________\nmax_pooling2d (MaxPooling2D)    (None, 25, 68, 16)   0           conv2d[0][0]                     \n__________________________________________________________________________________________________\nconv2d_1 (Conv2D)               (None, 25, 68, 32)   4640        max_pooling2d[0][0]              \n__________________________________________________________________________________________________\nmax_pooling2d_1 (MaxPooling2D)  (None, 13, 34, 32)   0           conv2d_1[0][0]                   \n__________________________________________________________________________________________________\nconv2d_2 (Conv2D)               (None, 13, 34, 32)   9248        max_pooling2d_1[0][0]            \n__________________________________________________________________________________________________\nbatch_normalization (BatchNorma (None, 13, 34, 32)   128         conv2d_2[0][0]                   \n__________________________________________________________________________________________________\nmax_pooling2d_2 (MaxPooling2D)  (None, 7, 17, 32)    0           batch_normalization[0][0]        \n__________________________________________________________________________________________________\nflatten (Flatten)               (None, 3808)         0           max_pooling2d_2[0][0]            \n__________________________________________________________________________________________________\ndense (Dense)                   (None, 64)           243776      flatten[0][0]                    \n__________________________________________________________________________________________________\ndense_2 (Dense)                 (None, 64)           243776      flatten[0][0]                    \n__________________________________________________________________________________________________\ndense_4 (Dense)                 (None, 64)           243776      flatten[0][0]                    \n__________________________________________________________________________________________________\ndense_6 (Dense)                 (None, 64)           243776      flatten[0][0]                    \n__________________________________________________________________________________________________\ndense_8 (Dense)                 (None, 64)           243776      flatten[0][0]                    \n__________________________________________________________________________________________________\ndropout (Dropout)               (None, 64)           0           dense[0][0]                      \n__________________________________________________________________________________________________\ndropout_1 (Dropout)             (None, 64)           0           dense_2[0][0]                    \n__________________________________________________________________________________________________\ndropout_2 (Dropout)             (None, 64)           0           dense_4[0][0]                    \n__________________________________________________________________________________________________\ndropout_3 (Dropout)             (None, 64)           0           dense_6[0][0]                    \n__________________________________________________________________________________________________\ndropout_4 (Dropout)             (None, 64)           0           dense_8[0][0]                    \n__________________________________________________________________________________________________\ndense_1 (Dense)                 (None, 10)           650         dropout[0][0]                    \n__________________________________________________________________________________________________\ndense_3 (Dense)                 (None, 10)           650         dropout_1[0][0]                  \n__________________________________________________________________________________________________\ndense_5 (Dense)                 (None, 10)           650         dropout_2[0][0]                  \n__________________________________________________________________________________________________\ndense_7 (Dense)                 (None, 10)           650         dropout_3[0][0]                  \n__________________________________________________________________________________________________\ndense_9 (Dense)                 (None, 10)           650         dropout_4[0][0]                  \n==================================================================================================\nTotal params: 1,236,306\nTrainable params: 1,236,242\nNon-trainable params: 64\n__________________________________________________________________________________________________\n"
    }
   ],
   "metadata": {},
   "execution_count": 6
  },
  {
   "source": [
    "#model = create_model()\n",
    "hist = model.fit(X_train, [y_train[0], y_train[1], y_train[2], y_train[3], y_train[4]], batch_size=32, epochs=60,verbose=1, validation_split=0.2)"
   ],
   "cell_type": "code",
   "outputs": [
    {
     "output_type": "stream",
     "name": "stdout",
     "text": "racy: 0.0000e+00 - val_dense_3_accuracy: 0.0000e+00 - val_dense_5_accuracy: 0.0000e+00 - val_dense_7_accuracy: 0.0000e+00 - val_dense_9_accuracy: 0.0000e+00\nEpoch 32/60\n134/134 [==============================] - 0s 1ms/sample - loss: 2.4854 - dense_1_loss: 0.4405 - dense_3_loss: 0.5812 - dense_5_loss: 0.5292 - dense_7_loss: 0.4383 - dense_9_loss: 0.5532 - dense_1_accuracy: 0.2761 - dense_3_accuracy: 0.2463 - dense_5_accuracy: 0.2313 - dense_7_accuracy: 0.2687 - dense_9_accuracy: 0.2463 - val_loss: 0.0000e+00 - val_dense_1_loss: 0.0000e+00 - val_dense_3_loss: 0.0000e+00 - val_dense_5_loss: 0.0000e+00 - val_dense_7_loss: 0.0000e+00 - val_dense_9_loss: 0.0000e+00 - val_dense_1_accuracy: 0.0000e+00 - val_dense_3_accuracy: 0.0000e+00 - val_dense_5_accuracy: 0.0000e+00 - val_dense_7_accuracy: 0.0000e+00 - val_dense_9_accuracy: 0.0000e+00\nEpoch 33/60\n134/134 [==============================] - 0s 1ms/sample - loss: 2.5305 - dense_1_loss: 0.3669 - dense_3_loss: 0.5096 - dense_5_loss: 0.3760 - dense_7_loss: 0.4772 - dense_9_loss: 0.3896 - dense_1_accuracy: 0.2985 - dense_3_accuracy: 0.2164 - dense_5_accuracy: 0.3060 - dense_7_accuracy: 0.2388 - dense_9_accuracy: 0.2910 - val_loss: 0.0000e+00 - val_dense_1_loss: 0.0000e+00 - val_dense_3_loss: 0.0000e+00 - val_dense_5_loss: 0.0000e+00 - val_dense_7_loss: 0.0000e+00 - val_dense_9_loss: 0.0000e+00 - val_dense_1_accuracy: 0.0000e+00 - val_dense_3_accuracy: 0.0000e+00 - val_dense_5_accuracy: 0.0000e+00 - val_dense_7_accuracy: 0.0000e+00 - val_dense_9_accuracy: 0.0000e+00\nEpoch 34/60\n134/134 [==============================] - 0s 1ms/sample - loss: 2.3550 - dense_1_loss: 0.6074 - dense_3_loss: 0.6284 - dense_5_loss: 0.5167 - dense_7_loss: 0.5072 - dense_9_loss: 0.4338 - dense_1_accuracy: 0.2985 - dense_3_accuracy: 0.2687 - dense_5_accuracy: 0.3284 - dense_7_accuracy: 0.2537 - dense_9_accuracy: 0.3134 - val_loss: 0.0000e+00 - val_dense_1_loss: 0.0000e+00 - val_dense_3_loss: 0.0000e+00 - val_dense_5_loss: 0.0000e+00 - val_dense_7_loss: 0.0000e+00 - val_dense_9_loss: 0.0000e+00 - val_dense_1_accuracy: 0.0000e+00 - val_dense_3_accuracy: 0.0000e+00 - val_dense_5_accuracy: 0.0000e+00 - val_dense_7_accuracy: 0.0000e+00 - val_dense_9_accuracy: 0.0000e+00\nEpoch 35/60\n134/134 [==============================] - 0s 1ms/sample - loss: 2.2820 - dense_1_loss: 0.4322 - dense_3_loss: 0.5398 - dense_5_loss: 0.4070 - dense_7_loss: 0.5780 - dense_9_loss: 0.5820 - dense_1_accuracy: 0.2836 - dense_3_accuracy: 0.2463 - dense_5_accuracy: 0.3284 - dense_7_accuracy: 0.2761 - dense_9_accuracy: 0.2388 - val_loss: 0.0000e+00 - val_dense_1_loss: 0.0000e+00 - val_dense_3_loss: 0.0000e+00 - val_dense_5_loss: 0.0000e+00 - val_dense_7_loss: 0.0000e+00 - val_dense_9_loss: 0.0000e+00 - val_dense_1_accuracy: 0.0000e+00 - val_dense_3_accuracy: 0.0000e+00 - val_dense_5_accuracy: 0.0000e+00 - val_dense_7_accuracy: 0.0000e+00 - val_dense_9_accuracy: 0.0000e+00\nEpoch 36/60\n134/134 [==============================] - 0s 1ms/sample - loss: 2.2516 - dense_1_loss: 0.5197 - dense_3_loss: 0.5772 - dense_5_loss: 0.4678 - dense_7_loss: 0.4817 - dense_9_loss: 0.4494 - dense_1_accuracy: 0.3209 - dense_3_accuracy: 0.2463 - dense_5_accuracy: 0.3209 - dense_7_accuracy: 0.3060 - dense_9_accuracy: 0.2985 - val_loss: 0.0000e+00 - val_dense_1_loss: 0.0000e+00 - val_dense_3_loss: 0.0000e+00 - val_dense_5_loss: 0.0000e+00 - val_dense_7_loss: 0.0000e+00 - val_dense_9_loss: 0.0000e+00 - val_dense_1_accuracy: 0.0000e+00 - val_dense_3_accuracy: 0.0000e+00 - val_dense_5_accuracy: 0.0000e+00 - val_dense_7_accuracy: 0.0000e+00 - val_dense_9_accuracy: 0.0000e+00\nEpoch 37/60\n134/134 [==============================] - 0s 1ms/sample - loss: 2.2092 - dense_1_loss: 0.3566 - dense_3_loss: 0.5325 - dense_5_loss: 0.3368 - dense_7_loss: 0.4452 - dense_9_loss: 0.4213 - dense_1_accuracy: 0.2537 - dense_3_accuracy: 0.2612 - dense_5_accuracy: 0.2985 - dense_7_accuracy: 0.2687 - dense_9_accuracy: 0.2761 - val_loss: 0.0000e+00 - val_dense_1_loss: 0.0000e+00 - val_dense_3_loss: 0.0000e+00 - val_dense_5_loss: 0.0000e+00 - val_dense_7_loss: 0.0000e+00 - val_dense_9_loss: 0.0000e+00 - val_dense_1_accuracy: 0.0000e+00 - val_dense_3_accuracy: 0.0000e+00 - val_dense_5_accuracy: 0.0000e+00 - val_dense_7_accuracy: 0.0000e+00 - val_dense_9_accuracy: 0.0000e+00\nEpoch 38/60\n134/134 [==============================] - 0s 1ms/sample - loss: 1.8858 - dense_1_loss: 0.4577 - dense_3_loss: 0.4754 - dense_5_loss: 0.3916 - dense_7_loss: 0.4273 - dense_9_loss: 0.4545 - dense_1_accuracy: 0.3134 - dense_3_accuracy: 0.2239 - dense_5_accuracy: 0.3358 - dense_7_accuracy: 0.3060 - dense_9_accuracy: 0.3134 - val_loss: 0.0000e+00 - val_dense_1_loss: 0.0000e+00 - val_dense_3_loss: 0.0000e+00 - val_dense_5_loss: 0.0000e+00 - val_dense_7_loss: 0.0000e+00 - val_dense_9_loss: 0.0000e+00 - val_dense_1_accuracy: 0.0000e+00 - val_dense_3_accuracy: 0.0000e+00 - val_dense_5_accuracy: 0.0000e+00 - val_dense_7_accuracy: 0.0000e+00 - val_dense_9_accuracy: 0.0000e+00\nEpoch 39/60\n134/134 [==============================] - 0s 1ms/sample - loss: 1.7415 - dense_1_loss: 0.2753 - dense_3_loss: 0.3618 - dense_5_loss: 0.4498 - dense_7_loss: 0.3433 - dense_9_loss: 0.4488 - dense_1_accuracy: 0.3507 - dense_3_accuracy: 0.2985 - dense_5_accuracy: 0.3433 - dense_7_accuracy: 0.2910 - dense_9_accuracy: 0.2985 - val_loss: 0.0000e+00 - val_dense_1_loss: 0.0000e+00 - val_dense_3_loss: 0.0000e+00 - val_dense_5_loss: 0.0000e+00 - val_dense_7_loss: 0.0000e+00 - val_dense_9_loss: 0.0000e+00 - val_dense_1_accuracy: 0.0000e+00 - val_dense_3_accuracy: 0.0000e+00 - val_dense_5_accuracy: 0.0000e+00 - val_dense_7_accuracy: 0.0000e+00 - val_dense_9_accuracy: 0.0000e+00\nEpoch 40/60\n134/134 [==============================] - 0s 1ms/sample - loss: 1.7283 - dense_1_loss: 0.3610 - dense_3_loss: 0.5128 - dense_5_loss: 0.4463 - dense_7_loss: 0.3737 - dense_9_loss: 0.3448 - dense_1_accuracy: 0.3358 - dense_3_accuracy: 0.2463 - dense_5_accuracy: 0.3134 - dense_7_accuracy: 0.3582 - dense_9_accuracy: 0.3582 - val_loss: 0.0000e+00 - val_dense_1_loss: 0.0000e+00 - val_dense_3_loss: 0.0000e+00 - val_dense_5_loss: 0.0000e+00 - val_dense_7_loss: 0.0000e+00 - val_dense_9_loss: 0.0000e+00 - val_dense_1_accuracy: 0.0000e+00 - val_dense_3_accuracy: 0.0000e+00 - val_dense_5_accuracy: 0.0000e+00 - val_dense_7_accuracy: 0.0000e+00 - val_dense_9_accuracy: 1.0000\nEpoch 41/60\n134/134 [==============================] - 0s 1ms/sample - loss: 1.7852 - dense_1_loss: 0.4465 - dense_3_loss: 0.3193 - dense_5_loss: 0.2742 - dense_7_loss: 0.3439 - dense_9_loss: 0.3091 - dense_1_accuracy: 0.2836 - dense_3_accuracy: 0.3060 - dense_5_accuracy: 0.3134 - dense_7_accuracy: 0.2836 - dense_9_accuracy: 0.3209 - val_loss: 0.0000e+00 - val_dense_1_loss: 0.0000e+00 - val_dense_3_loss: 0.0000e+00 - val_dense_5_loss: 0.0000e+00 - val_dense_7_loss: 0.0000e+00 - val_dense_9_loss: 0.0000e+00 - val_dense_1_accuracy: 0.0000e+00 - val_dense_3_accuracy: 0.0000e+00 - val_dense_5_accuracy: 0.0000e+00 - val_dense_7_accuracy: 0.0000e+00 - val_dense_9_accuracy: 1.0000\nEpoch 42/60\n134/134 [==============================] - 0s 1ms/sample - loss: 1.3386 - dense_1_loss: 0.2654 - dense_3_loss: 0.3010 - dense_5_loss: 0.2999 - dense_7_loss: 0.2212 - dense_9_loss: 0.2739 - dense_1_accuracy: 0.3582 - dense_3_accuracy: 0.3209 - dense_5_accuracy: 0.3507 - dense_7_accuracy: 0.3507 - dense_9_accuracy: 0.3284 - val_loss: 0.0000e+00 - val_dense_1_loss: 0.0000e+00 - val_dense_3_loss: 0.0000e+00 - val_dense_5_loss: 0.0000e+00 - val_dense_7_loss: 0.0000e+00 - val_dense_9_loss: 0.0000e+00 - val_dense_1_accuracy: 0.0000e+00 - val_dense_3_accuracy: 0.0000e+00 - val_dense_5_accuracy: 0.0000e+00 - val_dense_7_accuracy: 0.0000e+00 - val_dense_9_accuracy: 1.0000\nEpoch 43/60\n134/134 [==============================] - 0s 1ms/sample - loss: 1.6005 - dense_1_loss: 0.2666 - dense_3_loss: 0.5492 - dense_5_loss: 0.3100 - dense_7_loss: 0.2624 - dense_9_loss: 0.2388 - dense_1_accuracy: 0.3582 - dense_3_accuracy: 0.2687 - dense_5_accuracy: 0.3582 - dense_7_accuracy: 0.3358 - dense_9_accuracy: 0.3358 - val_loss: 0.0000e+00 - val_dense_1_loss: 0.0000e+00 - val_dense_3_loss: 0.0000e+00 - val_dense_5_loss: 0.0000e+00 - val_dense_7_loss: 0.0000e+00 - val_dense_9_loss: 0.0000e+00 - val_dense_1_accuracy: 0.0000e+00 - val_dense_3_accuracy: 0.0000e+00 - val_dense_5_accuracy: 0.0000e+00 - val_dense_7_accuracy: 0.0000e+00 - val_dense_9_accuracy: 1.0000\nEpoch 44/60\n134/134 [==============================] - 0s 1ms/sample - loss: 1.6479 - dense_1_loss: 0.2429 - dense_3_loss: 0.4414 - dense_5_loss: 0.2730 - dense_7_loss: 0.2479 - dense_9_loss: 0.2665 - dense_1_accuracy: 0.3284 - dense_3_accuracy: 0.3060 - dense_5_accuracy: 0.2836 - dense_7_accuracy: 0.3657 - dense_9_accuracy: 0.2985 - val_loss: 0.0000e+00 - val_dense_1_loss: 0.0000e+00 - val_dense_3_loss: 0.0000e+00 - val_dense_5_loss: 0.0000e+00 - val_dense_7_loss: 0.0000e+00 - val_dense_9_loss: 0.0000e+00 - val_dense_1_accuracy: 0.0000e+00 - val_dense_3_accuracy: 0.0000e+00 - val_dense_5_accuracy: 0.0000e+00 - val_dense_7_accuracy: 0.0000e+00 - val_dense_9_accuracy: 1.0000\nEpoch 45/60\n134/134 [==============================] - 0s 1ms/sample - loss: 1.4155 - dense_1_loss: 0.2312 - dense_3_loss: 0.3283 - dense_5_loss: 0.2144 - dense_7_loss: 0.2738 - dense_9_loss: 0.2448 - dense_1_accuracy: 0.3806 - dense_3_accuracy: 0.3881 - dense_5_accuracy: 0.3657 - dense_7_accuracy: 0.3507 - dense_9_accuracy: 0.3358 - val_loss: 0.0000e+00 - val_dense_1_loss: 0.0000e+00 - val_dense_3_loss: 0.0000e+00 - val_dense_5_loss: 0.0000e+00 - val_dense_7_loss: 0.0000e+00 - val_dense_9_loss: 0.0000e+00 - val_dense_1_accuracy: 0.0000e+00 - val_dense_3_accuracy: 0.0000e+00 - val_dense_5_accuracy: 0.0000e+00 - val_dense_7_accuracy: 0.0000e+00 - val_dense_9_accuracy: 1.0000\nEpoch 46/60\n134/134 [==============================] - 0s 1ms/sample - loss: 1.3434 - dense_1_loss: 0.2628 - dense_3_loss: 0.3122 - dense_5_loss: 0.3278 - dense_7_loss: 0.3377 - dense_9_loss: 0.2276 - dense_1_accuracy: 0.3209 - dense_3_accuracy: 0.3358 - dense_5_accuracy: 0.3582 - dense_7_accuracy: 0.3433 - dense_9_accuracy: 0.3582 - val_loss: 0.0000e+00 - val_dense_1_loss: 0.0000e+00 - val_dense_3_loss: 0.0000e+00 - val_dense_5_loss: 0.0000e+00 - val_dense_7_loss: 0.0000e+00 - val_dense_9_loss: 0.0000e+00 - val_dense_1_accuracy: 0.0000e+00 - val_dense_3_accuracy: 0.0000e+00 - val_dense_5_accuracy: 0.0000e+00 - val_dense_7_accuracy: 0.0000e+00 - val_dense_9_accuracy: 1.0000\nEpoch 47/60\n134/134 [==============================] - 0s 1ms/sample - loss: 0.9112 - dense_1_loss: 0.1556 - dense_3_loss: 0.1968 - dense_5_loss: 0.2521 - dense_7_loss: 0.1960 - dense_9_loss: 0.2566 - dense_1_accuracy: 0.3731 - dense_3_accuracy: 0.3881 - dense_5_accuracy: 0.3582 - dense_7_accuracy: 0.3582 - dense_9_accuracy: 0.4030 - val_loss: 0.0000e+00 - val_dense_1_loss: 0.0000e+00 - val_dense_3_loss: 0.0000e+00 - val_dense_5_loss: 0.0000e+00 - val_dense_7_loss: 0.0000e+00 - val_dense_9_loss: 0.0000e+00 - val_dense_1_accuracy: 0.0000e+00 - val_dense_3_accuracy: 0.0000e+00 - val_dense_5_accuracy: 0.0000e+00 - val_dense_7_accuracy: 0.0000e+00 - val_dense_9_accuracy: 0.0000e+00\nEpoch 48/60\n134/134 [==============================] - 0s 1ms/sample - loss: 1.0232 - dense_1_loss: 0.2285 - dense_3_loss: 0.2371 - dense_5_loss: 0.2987 - dense_7_loss: 0.1979 - dense_9_loss: 0.2965 - dense_1_accuracy: 0.3731 - dense_3_accuracy: 0.3657 - dense_5_accuracy: 0.3657 - dense_7_accuracy: 0.3731 - dense_9_accuracy: 0.3582 - val_loss: 0.0000e+00 - val_dense_1_loss: 0.0000e+00 - val_dense_3_loss: 0.0000e+00 - val_dense_5_loss: 0.0000e+00 - val_dense_7_loss: 0.0000e+00 - val_dense_9_loss: 0.0000e+00 - val_dense_1_accuracy: 0.0000e+00 - val_dense_3_accuracy: 0.0000e+00 - val_dense_5_accuracy: 0.0000e+00 - val_dense_7_accuracy: 0.0000e+00 - val_dense_9_accuracy: 1.0000\nEpoch 49/60\n134/134 [==============================] - 0s 1ms/sample - loss: 1.1732 - dense_1_loss: 0.2543 - dense_3_loss: 0.2098 - dense_5_loss: 0.3257 - dense_7_loss: 0.2070 - dense_9_loss: 0.2215 - dense_1_accuracy: 0.3284 - dense_3_accuracy: 0.3582 - dense_5_accuracy: 0.3284 - dense_7_accuracy: 0.3358 - dense_9_accuracy: 0.3358 - val_loss: 0.0000e+00 - val_dense_1_loss: 0.0000e+00 - val_dense_3_loss: 0.0000e+00 - val_dense_5_loss: 0.0000e+00 - val_dense_7_loss: 0.0000e+00 - val_dense_9_loss: 0.0000e+00 - val_dense_1_accuracy: 0.0000e+00 - val_dense_3_accuracy: 0.0000e+00 - val_dense_5_accuracy: 0.0000e+00 - val_dense_7_accuracy: 0.0000e+00 - val_dense_9_accuracy: 1.0000\nEpoch 50/60\n134/134 [==============================] - 0s 1ms/sample - loss: 0.9096 - dense_1_loss: 0.1879 - dense_3_loss: 0.2324 - dense_5_loss: 0.1626 - dense_7_loss: 0.1523 - dense_9_loss: 0.1261 - dense_1_accuracy: 0.3806 - dense_3_accuracy: 0.3134 - dense_5_accuracy: 0.3358 - dense_7_accuracy: 0.3881 - dense_9_accuracy: 0.3731 - val_loss: 0.0000e+00 - val_dense_1_loss: 0.0000e+00 - val_dense_3_loss: 0.0000e+00 - val_dense_5_loss: 0.0000e+00 - val_dense_7_loss: 0.0000e+00 - val_dense_9_loss: 0.0000e+00 - val_dense_1_accuracy: 0.0000e+00 - val_dense_3_accuracy: 0.0000e+00 - val_dense_5_accuracy: 0.0000e+00 - val_dense_7_accuracy: 0.0000e+00 - val_dense_9_accuracy: 1.0000\nEpoch 51/60\n134/134 [==============================] - 0s 1ms/sample - loss: 1.0035 - dense_1_loss: 0.1498 - dense_3_loss: 0.3088 - dense_5_loss: 0.1903 - dense_7_loss: 0.1915 - dense_9_loss: 0.1019 - dense_1_accuracy: 0.3806 - dense_3_accuracy: 0.3284 - dense_5_accuracy: 0.3507 - dense_7_accuracy: 0.3507 - dense_9_accuracy: 0.4403 - val_loss: 0.0000e+00 - val_dense_1_loss: 0.0000e+00 - val_dense_3_loss: 0.0000e+00 - val_dense_5_loss: 0.0000e+00 - val_dense_7_loss: 0.0000e+00 - val_dense_9_loss: 0.0000e+00 - val_dense_1_accuracy: 0.0000e+00 - val_dense_3_accuracy: 0.0000e+00 - val_dense_5_accuracy: 0.0000e+00 - val_dense_7_accuracy: 0.0000e+00 - val_dense_9_accuracy: 1.0000\nEpoch 52/60\n134/134 [==============================] - 0s 1ms/sample - loss: 0.8148 - dense_1_loss: 0.1360 - dense_3_loss: 0.1299 - dense_5_loss: 0.2212 - dense_7_loss: 0.2735 - dense_9_loss: 0.2080 - dense_1_accuracy: 0.4030 - dense_3_accuracy: 0.3731 - dense_5_accuracy: 0.3881 - dense_7_accuracy: 0.3433 - dense_9_accuracy: 0.4328 - val_loss: 0.0000e+00 - val_dense_1_loss: 0.0000e+00 - val_dense_3_loss: 0.0000e+00 - val_dense_5_loss: 0.0000e+00 - val_dense_7_loss: 0.0000e+00 - val_dense_9_loss: 0.0000e+00 - val_dense_1_accuracy: 0.0000e+00 - val_dense_3_accuracy: 0.0000e+00 - val_dense_5_accuracy: 0.0000e+00 - val_dense_7_accuracy: 0.0000e+00 - val_dense_9_accuracy: 1.0000\nEpoch 53/60\n134/134 [==============================] - 0s 1ms/sample - loss: 0.9163 - dense_1_loss: 0.1194 - dense_3_loss: 0.3071 - dense_5_loss: 0.1834 - dense_7_loss: 0.1741 - dense_9_loss: 0.1750 - dense_1_accuracy: 0.3657 - dense_3_accuracy: 0.3209 - dense_5_accuracy: 0.3657 - dense_7_accuracy: 0.3955 - dense_9_accuracy: 0.3731 - val_loss: 0.0000e+00 - val_dense_1_loss: 0.0000e+00 - val_dense_3_loss: 0.0000e+00 - val_dense_5_loss: 0.0000e+00 - val_dense_7_loss: 0.0000e+00 - val_dense_9_loss: 0.0000e+00 - val_dense_1_accuracy: 0.0000e+00 - val_dense_3_accuracy: 0.0000e+00 - val_dense_5_accuracy: 0.0000e+00 - val_dense_7_accuracy: 0.0000e+00 - val_dense_9_accuracy: 1.0000\nEpoch 54/60\n134/134 [==============================] - 0s 1ms/sample - loss: 0.8865 - dense_1_loss: 0.1558 - dense_3_loss: 0.1793 - dense_5_loss: 0.1781 - dense_7_loss: 0.1708 - dense_9_loss: 0.1641 - dense_1_accuracy: 0.3731 - dense_3_accuracy: 0.3806 - dense_5_accuracy: 0.3731 - dense_7_accuracy: 0.3358 - dense_9_accuracy: 0.3806 - val_loss: 0.0000e+00 - val_dense_1_loss: 0.0000e+00 - val_dense_3_loss: 0.0000e+00 - val_dense_5_loss: 0.0000e+00 - val_dense_7_loss: 0.0000e+00 - val_dense_9_loss: 0.0000e+00 - val_dense_1_accuracy: 0.0000e+00 - val_dense_3_accuracy: 0.0000e+00 - val_dense_5_accuracy: 0.0000e+00 - val_dense_7_accuracy: 0.0000e+00 - val_dense_9_accuracy: 1.0000\nEpoch 55/60\n134/134 [==============================] - 0s 1ms/sample - loss: 0.8432 - dense_1_loss: 0.1486 - dense_3_loss: 0.1470 - dense_5_loss: 0.2599 - dense_7_loss: 0.2024 - dense_9_loss: 0.1556 - dense_1_accuracy: 0.3731 - dense_3_accuracy: 0.4030 - dense_5_accuracy: 0.3582 - dense_7_accuracy: 0.3433 - dense_9_accuracy: 0.3657 - val_loss: 0.0000e+00 - val_dense_1_loss: 0.0000e+00 - val_dense_3_loss: 0.0000e+00 - val_dense_5_loss: 0.0000e+00 - val_dense_7_loss: 0.0000e+00 - val_dense_9_loss: 0.0000e+00 - val_dense_1_accuracy: 0.0000e+00 - val_dense_3_accuracy: 0.0000e+00 - val_dense_5_accuracy: 0.0000e+00 - val_dense_7_accuracy: 0.0000e+00 - val_dense_9_accuracy: 1.0000\nEpoch 56/60\n134/134 [==============================] - 0s 1ms/sample - loss: 0.6912 - dense_1_loss: 0.1846 - dense_3_loss: 0.1457 - dense_5_loss: 0.1615 - dense_7_loss: 0.1429 - dense_9_loss: 0.0877 - dense_1_accuracy: 0.3806 - dense_3_accuracy: 0.3955 - dense_5_accuracy: 0.3657 - dense_7_accuracy: 0.3955 - dense_9_accuracy: 0.3881 - val_loss: 0.0000e+00 - val_dense_1_loss: 0.0000e+00 - val_dense_3_loss: 0.0000e+00 - val_dense_5_loss: 0.0000e+00 - val_dense_7_loss: 0.0000e+00 - val_dense_9_loss: 0.0000e+00 - val_dense_1_accuracy: 0.0000e+00 - val_dense_3_accuracy: 0.0000e+00 - val_dense_5_accuracy: 0.0000e+00 - val_dense_7_accuracy: 0.0000e+00 - val_dense_9_accuracy: 1.0000\nEpoch 57/60\n134/134 [==============================] - 0s 1ms/sample - loss: 0.8536 - dense_1_loss: 0.1541 - dense_3_loss: 0.1855 - dense_5_loss: 0.1196 - dense_7_loss: 0.1906 - dense_9_loss: 0.1124 - dense_1_accuracy: 0.3433 - dense_3_accuracy: 0.3507 - dense_5_accuracy: 0.3657 - dense_7_accuracy: 0.3433 - dense_9_accuracy: 0.3582 - val_loss: 0.0000e+00 - val_dense_1_loss: 0.0000e+00 - val_dense_3_loss: 0.0000e+00 - val_dense_5_loss: 0.0000e+00 - val_dense_7_loss: 0.0000e+00 - val_dense_9_loss: 0.0000e+00 - val_dense_1_accuracy: 0.0000e+00 - val_dense_3_accuracy: 0.0000e+00 - val_dense_5_accuracy: 0.0000e+00 - val_dense_7_accuracy: 0.0000e+00 - val_dense_9_accuracy: 1.0000\nEpoch 58/60\n134/134 [==============================] - 0s 1ms/sample - loss: 0.9242 - dense_1_loss: 0.1191 - dense_3_loss: 0.2744 - dense_5_loss: 0.1844 - dense_7_loss: 0.2178 - dense_9_loss: 0.1736 - dense_1_accuracy: 0.3955 - dense_3_accuracy: 0.3806 - dense_5_accuracy: 0.3433 - dense_7_accuracy: 0.3881 - dense_9_accuracy: 0.3806 - val_loss: 0.0000e+00 - val_dense_1_loss: 0.0000e+00 - val_dense_3_loss: 0.0000e+00 - val_dense_5_loss: 0.0000e+00 - val_dense_7_loss: 0.0000e+00 - val_dense_9_loss: 0.0000e+00 - val_dense_1_accuracy: 0.0000e+00 - val_dense_3_accuracy: 0.0000e+00 - val_dense_5_accuracy: 0.0000e+00 - val_dense_7_accuracy: 0.0000e+00 - val_dense_9_accuracy: 1.0000\nEpoch 59/60\n134/134 [==============================] - 0s 1ms/sample - loss: 0.8518 - dense_1_loss: 0.1512 - dense_3_loss: 0.1938 - dense_5_loss: 0.2230 - dense_7_loss: 0.1555 - dense_9_loss: 0.1701 - dense_1_accuracy: 0.3955 - dense_3_accuracy: 0.3881 - dense_5_accuracy: 0.3433 - dense_7_accuracy: 0.3881 - dense_9_accuracy: 0.3507 - val_loss: 0.0000e+00 - val_dense_1_loss: 0.0000e+00 - val_dense_3_loss: 0.0000e+00 - val_dense_5_loss: 0.0000e+00 - val_dense_7_loss: 0.0000e+00 - val_dense_9_loss: 0.0000e+00 - val_dense_1_accuracy: 0.0000e+00 - val_dense_3_accuracy: 0.0000e+00 - val_dense_5_accuracy: 0.0000e+00 - val_dense_7_accuracy: 0.0000e+00 - val_dense_9_accuracy: 1.0000\nEpoch 60/60\n134/134 [==============================] - 0s 1ms/sample - loss: 0.7156 - dense_1_loss: 0.1398 - dense_3_loss: 0.1105 - dense_5_loss: 0.1594 - dense_7_loss: 0.1167 - dense_9_loss: 0.1266 - dense_1_accuracy: 0.3881 - dense_3_accuracy: 0.4030 - dense_5_accuracy: 0.3507 - dense_7_accuracy: 0.4030 - dense_9_accuracy: 0.3881 - val_loss: 0.0000e+00 - val_dense_1_loss: 0.0000e+00 - val_dense_3_loss: 0.0000e+00 - val_dense_5_loss: 0.0000e+00 - val_dense_7_loss: 0.0000e+00 - val_dense_9_loss: 0.0000e+00 - val_dense_1_accuracy: 0.0000e+00 - val_dense_3_accuracy: 0.0000e+00 - val_dense_5_accuracy: 0.0000e+00 - val_dense_7_accuracy: 0.0000e+00 - val_dense_9_accuracy: 1.0000\n"
    }
   ],
   "metadata": {},
   "execution_count": 7
  },
  {
   "source": [
    "# Define function to predict captcha\n",
    "def predict(filepath):\n",
    "    img = cv2.imread(filepath, cv2.IMREAD_GRAYSCALE)\n",
    "    if img is not None:\n",
    "        img = img / 255.0\n",
    "    else:\n",
    "        print(\"Not detected\");\n",
    "    res = np.array(model.predict(img[np.newaxis, :, :, np.newaxis]))\n",
    "    ans = np.reshape(res, (5, 10))\n",
    "    l_ind = []\n",
    "    probs = []\n",
    "    for a in ans:\n",
    "        l_ind.append(np.argmax(a))\n",
    "        #probs.append(np.max(a))\n",
    "\n",
    "    capt = ''\n",
    "    for l in l_ind:\n",
    "        capt += symbols[l]\n",
    "    return capt#, sum(probs) / 5"
   ],
   "cell_type": "code",
   "outputs": [],
   "metadata": {},
   "execution_count": 8
  },
  {
   "source": [
    "# in this block we predict the values\n",
    "wb = Workbook()\n",
    "sheet1 = wb.add_sheet('Sheet 1')\n",
    "sheet1.write(0, 0, 'name of the JPEG file')\n",
    "sheet1.write(0, 1, 'predicted value')\n",
    "sheet1.write(0, 2, 'true/false')\n",
    "a = os.listdir('test')\n",
    "positive = 0\n",
    "negetive = 0\n",
    "for i in range(0,56):\n",
    "    print(f\"filename:{a[i]} , result is : \",predict('test/'+a[i]))\n",
    "    # row start at 1 , column at 0\n",
    "    sheet1.write(i+1, 0, a[i])\n",
    "    sheet1.write(i+1, 1, predict('test/'+a[i])) \n",
    "    if a[i][0:5] == (predict('test/'+a[i])):\n",
    "        print('true')\n",
    "        positive = positive + 1\n",
    "        sheet1.write(i+1, 2, 'true')\n",
    "    else:\n",
    "        print('false')\n",
    "        negetive = negetive + 1\n",
    "        sheet1.write(i+1, 2, 'false')"
   ],
   "cell_type": "code",
   "outputs": [
    {
     "output_type": "stream",
     "name": "stdout",
     "text": "filename:13469.jpg , result is :  13469\ntrue\nfilename:13963.jpg , result is :  13963\ntrue\nfilename:16723.jpg , result is :  16723\ntrue\nfilename:18641.jpg , result is :  18641\ntrue\nfilename:18955.jpg , result is :  18955\ntrue\nfilename:21118.jpg , result is :  21118\ntrue\nfilename:21987.jpg , result is : 21987\ntrue\nfilename:24184.jpg , result is :  24184\ntrue\nfilename:26971.jpg , result is :  26971\ntrue\nfilename:27114.jpg , result is : 27114\ntrue\nfilename:28192.jpg , result is :  28192\ntrue\nfilename:33261.jpg , result is :  33261\ntrue\nfilename:34425.jpg , result is : 34425\ntrue\nfilename:35125.jpg , result is :  35125\ntrue\nfilename:35165.jpg , result is :  35165\ntrue\nfilename:36248.jpg , result is : 36248\ntrue\nfilename:37341.jpg , result is :  37341\ntrue\nfilename:37826.jpg , result is :  37826\ntrue\nfilename:37917.jpg , result is :  37917\ntrue\nfilename:39621.jpg , result is :  39621\ntrue\nfilename:39872.jpg , result is :  39872\ntrue\nfilename:42445.jpg , result is :  42445\ntrue\nfilename:43454.jpg , result is : 43454\ntrue\nfilename:43675.jpg , result is :  43675\ntrue\nfilename:44845.jpg , result is :  44845\ntrue\nfilename:45522.jpg , result is :  45522\ntrue\nfilename:48446.jpg , result is : 48446\ntrue\nfilename:53172.jpg , result is :  53172\ntrue\nfilename:54262.jpg , result is :  54262\ntrue\nfilename:56687.jpg , result is : 56687\ntrue\nfilename:58251.jpg , result is :  58251\ntrue\nfilename:61364.jpg , result is :  61364\ntrue\nfilename:61787.jpg , result is :  61787\ntrue\nfilename:65783.jpg , result is :  65783\ntrue\nfilename:66573.jpg , result is : 66573\ntrue\nfilename:67213.jpg , result is :  67213\ntrue\nfilename:67843.jpg , result is :  67843\ntrue\nfilename:71811.jpg , result is :  71811\ntrue\nfilename:71896.jpg , result is :  71896\ntrue\nfilename:74561.jpg , result is : 74561\ntrue\nfilename:75279.jpg , result is :  75279\ntrue\nfilename:75672.jpg , result is :  75672\ntrue\nfilename:75886.jpg , result is :  75886\ntrue\nfilename:76247.jpg , result is :  76247\ntrue\nfilename:77573.jpg , result is : 77573\ntrue\nfilename:78542.jpg , result is :  78542\ntrue\nfilename:79988.jpg , result is :  79988\ntrue\nfilename:81251.jpg , result is :  81251\ntrue\nfilename:82839.jpg , result is :  82839\ntrue\nfilename:84787.jpg , result is :  84787\ntrue\nfilename:86111.jpg , result is :  86111\ntrue\nfilename:87111.jpg , result is :  87111\ntrue\nfilename:91968.jpg , result is : 91968\ntrue\nfilename:94551.jpg , result is :  94551\ntrue\nfilename:99546.jpg , result is :  99546\ntrue\nfilename:99834.jpg , result is : 99834\ntrue\n"
    }
   ],
   "metadata": {},
   "execution_count": 9
  },
  {
   "source": [
    "# see the number of true and false cases\n",
    "print('true cases: ',positive,' false cases : ',negetive)"
   ],
   "cell_type": "code",
   "outputs": [
    {
     "output_type": "stream",
     "name": "stdout",
     "text": "true cases:  56  false cases :  0\n"
    }
   ],
   "metadata": {},
   "execution_count": 10
  },
  {
   "source": [
    "# saving the excel file\n",
    "wb.save('xlswt result.xls')"
   ],
   "cell_type": "code",
   "outputs": [],
   "metadata": {},
   "execution_count": 11
  },
  {
   "source": [
    "# an example\n",
    "predict('Unknown.jpg')"
   ],
   "cell_type": "code",
   "outputs": [
    {
     "output_type": "execute_result",
     "data": {
      "text/plain": "'56687'"
     },
     "metadata": {},
     "execution_count": 12
    }
   ],
   "metadata": {},
   "execution_count": 12
  },
  {
   "source": [
    "# open the result file\n",
    "os.startfile(\"xlswt result.xls\")"
   ],
   "cell_type": "code",
   "outputs": [],
   "metadata": {},
   "execution_count": 13
  },
  {
   "cell_type": "code",
   "execution_count": null,
   "metadata": {},
   "outputs": [],
   "source": []
  }
 ],
 "metadata": {
  "kernelspec": {
   "display_name": "Python 3",
   "language": "python",
   "name": "python3"
  },
  "language_info": {
   "codemirror_mode": {
    "name": "ipython",
    "version": 3
   },
   "file_extension": ".py",
   "mimetype": "text/x-python",
   "name": "python",
   "nbconvert_exporter": "python",
   "pygments_lexer": "ipython3",
   "version": "3.7.6-final"
  }
 },
 "nbformat": 4,
 "nbformat_minor": 2
}